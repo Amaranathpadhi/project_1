{
 "cells": [
  {
   "cell_type": "code",
   "execution_count": 11,
   "metadata": {},
   "outputs": [
    {
     "name": "stdout",
     "output_type": "stream",
     "text": [
      "Not matched!\n"
     ]
    }
   ],
   "source": [
    "import re\n",
    "line = \"Java plus Python gives Jython\"\n",
    "res = re.match( r'ython', line)\n",
    "if res:\n",
    "   print(\"Matched : \", res.group(0))\n",
    "else:\n",
    "   print(\"Not matched!\")\n",
    "\n"
   ]
  },
  {
   "cell_type": "code",
   "execution_count": 12,
   "metadata": {},
   "outputs": [
    {
     "name": "stdout",
     "output_type": "stream",
     "text": [
      "('Start : ', 10)\n",
      "('End : ', 16)\n"
     ]
    }
   ],
   "source": [
    "import re\n",
    "line = \"Java plus Python gives Jython\"\n",
    "res = re.search( r'Python', line)\n",
    "print(\"Start : \", res.start())\n",
    "print(\"End : \", res.end())"
   ]
  },
  {
   "cell_type": "code",
   "execution_count": 13,
   "metadata": {},
   "outputs": [
    {
     "name": "stdout",
     "output_type": "stream",
     "text": [
      "['ython', 'ython']\n"
     ]
    }
   ],
   "source": [
    "import re\n",
    "line = \"Java plus Python gives Jython\"\n",
    "list = re.findall(r'ython', line)\n",
    "print(list)"
   ]
  },
  {
   "cell_type": "code",
   "execution_count": 16,
   "metadata": {},
   "outputs": [
    {
     "name": "stdout",
     "output_type": "stream",
     "text": [
      "['R', 'm', 'y', 'n', '']\n"
     ]
    }
   ],
   "source": [
    "import re\n",
    "result = re.split(r'a','Ramayana',)\n",
    "print(result)\n"
   ]
  },
  {
   "cell_type": "code",
   "execution_count": 18,
   "metadata": {},
   "outputs": [
    {
     "name": "stdout",
     "output_type": "stream",
     "text": [
      "Java plus Python gives JavaPython\n"
     ]
    }
   ],
   "source": [
    "import re\n",
    "line = \"Java plus Python gives JavaPython\"\n",
    "result = re.sub(r'JavaPythonn','Jython', line)\n",
    "print(result)"
   ]
  },
  {
   "cell_type": "code",
   "execution_count": 24,
   "metadata": {},
   "outputs": [
    {
     "name": "stdout",
     "output_type": "stream",
     "text": [
      "['Java']\n",
      "['Java', 'Java']\n"
     ]
    }
   ],
   "source": [
    "import re\n",
    "amar = re.compile(\"Java\")\n",
    "\n",
    "s1 = \"Java plus Python gives Jython\"\n",
    "r1 = amar.findall(s1)\n",
    "print(r1)\n",
    "\n",
    "s2 = \"Java plus Python gives JavaPython\"\n",
    "r2 = pattern.findall(s2)\n",
    "print(r2)\n"
   ]
  },
  {
   "cell_type": "code",
   "execution_count": 25,
   "metadata": {},
   "outputs": [
    {
     "name": "stdout",
     "output_type": "stream",
     "text": [
      "['Java']\n",
      "['Java', 'Java']\n"
     ]
    }
   ],
   "source": [
    "import re\n",
    "amar = re.compile(\"Java\")\n",
    "\n",
    "s1 = \"Java plus Python gives Jython\"\n",
    "r1 = amar.findall(s1)\n",
    "print(r1)\n",
    "\n",
    "s2 = \"Java plus Python gives JavaPython\"\n",
    "r2 = pattern.findall(s2)\n",
    "print(r2)\n"
   ]
  },
  {
   "cell_type": "code",
   "execution_count": 38,
   "metadata": {},
   "outputs": [
    {
     "name": "stdout",
     "output_type": "stream",
     "text": [
      "['P', 'y', 't', 'h', 'o', 'n', 'a', 'n', 'd', 'R']\n"
     ]
    }
   ],
   "source": [
    "import re\n",
    "result=re.findall(r'\\w','Python and R')\n",
    "print(result)\n"
   ]
  },
  {
   "cell_type": "code",
   "execution_count": 39,
   "metadata": {},
   "outputs": [
    {
     "name": "stdout",
     "output_type": "stream",
     "text": [
      "['Py', 'an', 'RL']\n"
     ]
    }
   ],
   "source": [
    "import re\n",
    "#result=re.findall(r'\\w\\w','Python and RLang')\n",
    "result=re.findall(r'\\b\\w\\w','Python and RLang')\n",
    "print(result)\n"
   ]
  },
  {
   "cell_type": "code",
   "execution_count": 41,
   "metadata": {},
   "outputs": [
    {
     "name": "stdout",
     "output_type": "stream",
     "text": [
      "['2001', '1987']\n"
     ]
    }
   ],
   "source": [
    "import re\n",
    "result=re.findall(r'\\d{2}-\\d{2}-(\\d{4})','abc1234-56 11-12-2001 , zyx43-23-08-1987')\n",
    "print(result)"
   ]
  },
  {
   "cell_type": "code",
   "execution_count": 59,
   "metadata": {},
   "outputs": [
    {
     "name": "stdout",
     "output_type": "stream",
     "text": [
      "['India', 'is']\n"
     ]
    }
   ],
   "source": [
    "import re\n",
    "result=re.findall(r'\\b[aeiouAEIOU]\\w+','India is My country')\n",
    "print(result)"
   ]
  },
  {
   "cell_type": "code",
   "execution_count": 61,
   "metadata": {},
   "outputs": [
    {
     "name": "stdout",
     "output_type": "stream",
     "text": [
      "('match --> matchObj.group() : ', 'Cats')\n",
      "('search --> searchObj.group() : ', 'dogs')\n"
     ]
    }
   ],
   "source": [
    "import re\n",
    "line = \"Cats are smarter than dogs\";\n",
    "\n",
    "matchObj = re.match( r'Cats', line, re.M|re.I)\n",
    "if matchObj:\n",
    "   print(\"match --> matchObj.group() : \", matchObj.group())\n",
    "else:\n",
    "   print(\"No match!!\")\n",
    "\n",
    "searchObj = re.search( r'dogs', line, re.M|re.I)\n",
    "if searchObj:\n",
    "   print(\"search --> searchObj.group() : \", searchObj.group())\n",
    "else:\n",
    "   print(\"Nothing found!!\")\n",
    "\n"
   ]
  },
  {
   "cell_type": "code",
   "execution_count": null,
   "metadata": {},
   "outputs": [],
   "source": []
  },
  {
   "cell_type": "code",
   "execution_count": null,
   "metadata": {},
   "outputs": [],
   "source": []
  }
 ],
 "metadata": {
  "kernelspec": {
   "display_name": "Python 2",
   "language": "python",
   "name": "python2"
  },
  "language_info": {
   "codemirror_mode": {
    "name": "ipython",
    "version": 2
   },
   "file_extension": ".py",
   "mimetype": "text/x-python",
   "name": "python",
   "nbconvert_exporter": "python",
   "pygments_lexer": "ipython2",
   "version": "2.7.15"
  }
 },
 "nbformat": 4,
 "nbformat_minor": 2
}
