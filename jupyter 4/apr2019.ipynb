{
 "cells": [
  {
   "cell_type": "code",
   "execution_count": 3,
   "metadata": {},
   "outputs": [
    {
     "ename": "TypeError",
     "evalue": "'tuple' object does not support item assignment",
     "output_type": "error",
     "traceback": [
      "\u001b[1;31m---------------------------------------------------------------------------\u001b[0m",
      "\u001b[1;31mTypeError\u001b[0m                                 Traceback (most recent call last)",
      "\u001b[1;32m<ipython-input-3-f440ffe65faa>\u001b[0m in \u001b[0;36m<module>\u001b[1;34m()\u001b[0m\n\u001b[0;32m      1\u001b[0m \u001b[0ma\u001b[0m \u001b[1;33m=\u001b[0m \u001b[1;33m(\u001b[0m\u001b[1;36m1\u001b[0m\u001b[1;33m,\u001b[0m\u001b[1;36m2\u001b[0m\u001b[1;33m,\u001b[0m\u001b[1;36m3\u001b[0m\u001b[1;33m)\u001b[0m\u001b[1;33m\u001b[0m\u001b[0m\n\u001b[1;32m----> 2\u001b[1;33m \u001b[0ma\u001b[0m\u001b[1;33m[\u001b[0m\u001b[1;36m0\u001b[0m\u001b[1;33m]\u001b[0m\u001b[1;33m=\u001b[0m \u001b[1;36m4\u001b[0m\u001b[1;33m\u001b[0m\u001b[0m\n\u001b[0m\u001b[0;32m      3\u001b[0m \u001b[1;32mprint\u001b[0m \u001b[0ma\u001b[0m\u001b[1;33m\u001b[0m\u001b[0m\n",
      "\u001b[1;31mTypeError\u001b[0m: 'tuple' object does not support item assignment"
     ]
    }
   ],
   "source": [
    "a = (1,2,3)\n",
    "a[0]= 4\n",
    "print a"
   ]
  },
  {
   "cell_type": "code",
   "execution_count": 18,
   "metadata": {},
   "outputs": [
    {
     "name": "stdout",
     "output_type": "stream",
     "text": [
      "\n",
      "Donald trump\n",
      "Donald trump,josh bush\n",
      "Donald trump,josh bush,barack obama\n",
      "Donald trump,josh bush,barack obama,prativa patil\n",
      "Donald trump,josh bush,barack obama,prativa patil,ramnath kovind\n"
     ]
    }
   ],
   "source": [
    "presidents = [\"Donald trump\",\"josh bush\",\"barack obama\",\"prativa patil\",\"ramnath kovind\"]\n",
    "for set in [','.join (presidents[0:i])for i in range(len(presidents)+1)]:\n",
    "    print (set)"
   ]
  },
  {
   "cell_type": "code",
   "execution_count": 14,
   "metadata": {},
   "outputs": [
    {
     "name": "stdout",
     "output_type": "stream",
     "text": [
      "['Donald trump', 'josh bush', 'barack obama', 'prativa patil', 'ramnath kovind']\n"
     ]
    }
   ],
   "source": [
    "print presidents"
   ]
  },
  {
   "cell_type": "code",
   "execution_count": 14,
   "metadata": {},
   "outputs": [
    {
     "name": "stdout",
     "output_type": "stream",
     "text": [
      "5\n",
      "[['D', 'o', 'n', 'a', 'l', 'd', ' ', 't', 'r', 'u', 'm', 'p'], ['j', 'o', 's', 'h', ' ', 'b', 'u', 's', 'h'], ['b', 'a', 'r', 'a', 'c', 'k', ' ', 'o', 'b', 'a', 'm', 'a'], ['p', 'r', 'a', 't', 'i', 'v', 'a', ' ', 'p', 'a', 't', 'i', 'l'], ['r', 'a', 'm', 'n', 'a', 't', 'h', ' ', 'k', 'o', 'v', 'i', 'n', 'd']]\n",
      "enter a character'k'\n",
      "2\n"
     ]
    }
   ],
   "source": [
    "i = 0\n",
    "d = []\n",
    "print len(presidents)\n",
    "for i in range(len(presidents)):\n",
    "    #print presidents[i]\n",
    "    c =list(presidents[i])\n",
    "    d.append(c)\n",
    "print d\n",
    "def my_fun(k):\n",
    "    j= 0\n",
    "    count = 0\n",
    "    for i in range(len(d)):\n",
    "        for j in range(len(d[i])):\n",
    "            if k == d[i][j]:\n",
    "                count+=1\n",
    "    print (count)\n",
    "\n",
    "l = input(\"enter a character\")\n",
    "my_fun(l)\n"
   ]
  },
  {
   "cell_type": "code",
   "execution_count": null,
   "metadata": {},
   "outputs": [],
   "source": []
  },
  {
   "cell_type": "code",
   "execution_count": null,
   "metadata": {},
   "outputs": [],
   "source": []
  }
 ],
 "metadata": {
  "kernelspec": {
   "display_name": "Python 2",
   "language": "python",
   "name": "python2"
  },
  "language_info": {
   "codemirror_mode": {
    "name": "ipython",
    "version": 2
   },
   "file_extension": ".py",
   "mimetype": "text/x-python",
   "name": "python",
   "nbconvert_exporter": "python",
   "pygments_lexer": "ipython2",
   "version": "2.7.15"
  }
 },
 "nbformat": 4,
 "nbformat_minor": 2
}
