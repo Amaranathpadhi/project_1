{
 "cells": [
  {
   "cell_type": "code",
   "execution_count": 3,
   "metadata": {},
   "outputs": [
    {
     "name": "stdout",
     "output_type": "stream",
     "text": [
      "91-7978235092\n"
     ]
    }
   ],
   "source": [
    "a = \"My name is amaranath, my mobile no is 91-7978235092 and i am a python learner\"\n",
    "import re\n",
    "x = r\"91-\\d\\d\\d\\d\\d\\d\\d\\d\\d\\d\"\n",
    "y = re.compile(x)\n",
    "z =  y.search(a)\n",
    "print z.group()"
   ]
  },
  {
   "cell_type": "code",
   "execution_count": 4,
   "metadata": {},
   "outputs": [
    {
     "name": "stdout",
     "output_type": "stream",
     "text": [
      "91-7978235092\n"
     ]
    }
   ],
   "source": [
    "print re.search(x,a).group()"
   ]
  },
  {
   "cell_type": "code",
   "execution_count": 7,
   "metadata": {},
   "outputs": [
    {
     "name": "stdout",
     "output_type": "stream",
     "text": [
      "91-7978235092 \n"
     ]
    }
   ],
   "source": [
    "x = r\"91-\\d{10}\\s\"\n",
    "print re.search(x,a).group()"
   ]
  },
  {
   "cell_type": "code",
   "execution_count": 10,
   "metadata": {},
   "outputs": [
    {
     "name": "stdout",
     "output_type": "stream",
     "text": [
      "91-7978235092 \n"
     ]
    }
   ],
   "source": [
    "x = r\"91-\\d{10}\\s\"\n",
    "print re.search(x,a).group()"
   ]
  },
  {
   "cell_type": "code",
   "execution_count": 13,
   "metadata": {},
   "outputs": [
    {
     "name": "stdout",
     "output_type": "stream",
     "text": [
      "91-7978235092 \n"
     ]
    }
   ],
   "source": [
    "x = r\"91-\\d{10}\\s\"\n",
    "print re.search(x,a).group()"
   ]
  },
  {
   "cell_type": "code",
   "execution_count": 25,
   "metadata": {},
   "outputs": [
    {
     "name": "stdout",
     "output_type": "stream",
     "text": [
      "['python']\n"
     ]
    }
   ],
   "source": [
    "p = \"this is a python classes\"\n",
    "x = r\"pytho[n]+\"\n",
    "print re .findall(x,p)\n"
   ]
  },
  {
   "cell_type": "code",
   "execution_count": 26,
   "metadata": {},
   "outputs": [
    {
     "name": "stdout",
     "output_type": "stream",
     "text": [
      "['pythob']\n"
     ]
    }
   ],
   "source": [
    "p = \"this is a pythob classes\"\n",
    "x = r\"pythob[n]*\"\n",
    "print re .findall(x,p)\n"
   ]
  },
  {
   "cell_type": "code",
   "execution_count": 29,
   "metadata": {},
   "outputs": [
    {
     "name": "stdout",
     "output_type": "stream",
     "text": [
      "['pytho']\n"
     ]
    }
   ],
   "source": [
    "p = \"this is a pythonnnn classes\"\n",
    "x = r\"pytho[n]*?\"\n",
    "print re .findall(x,p)\n"
   ]
  },
  {
   "cell_type": "code",
   "execution_count": null,
   "metadata": {},
   "outputs": [],
   "source": []
  }
 ],
 "metadata": {
  "kernelspec": {
   "display_name": "Python 2",
   "language": "python",
   "name": "python2"
  },
  "language_info": {
   "codemirror_mode": {
    "name": "ipython",
    "version": 2
   },
   "file_extension": ".py",
   "mimetype": "text/x-python",
   "name": "python",
   "nbconvert_exporter": "python",
   "pygments_lexer": "ipython2",
   "version": "2.7.15"
  }
 },
 "nbformat": 4,
 "nbformat_minor": 2
}
