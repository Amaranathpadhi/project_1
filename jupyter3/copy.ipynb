{
 "cells": [
  {
   "cell_type": "code",
   "execution_count": 4,
   "metadata": {},
   "outputs": [
    {
     "name": "stdout",
     "output_type": "stream",
     "text": [
      "[10, 20, 30, 650, 80, 11]\n"
     ]
    }
   ],
   "source": [
    "\"\"\"reference copy\"\"\"\n",
    "a = [10,20,30,650,80,11]\n",
    "b = a\n",
    "print b\n"
   ]
  },
  {
   "cell_type": "code",
   "execution_count": 5,
   "metadata": {},
   "outputs": [
    {
     "name": "stdout",
     "output_type": "stream",
     "text": [
      "[500, 20, 30, 650, 80, 11]\n"
     ]
    }
   ],
   "source": [
    "b[0] = 500\n",
    "print b"
   ]
  },
  {
   "cell_type": "code",
   "execution_count": 6,
   "metadata": {},
   "outputs": [
    {
     "name": "stdout",
     "output_type": "stream",
     "text": [
      "[500, 20, 30, 650, 80, 11]\n"
     ]
    }
   ],
   "source": [
    "print a"
   ]
  },
  {
   "cell_type": "code",
   "execution_count": 8,
   "metadata": {},
   "outputs": [
    {
     "name": "stdout",
     "output_type": "stream",
     "text": [
      "[211, 24, 30, 60, 80, 100]\n",
      "[211, 24, 30, 60, 80, 100]\n"
     ]
    }
   ],
   "source": [
    "\"\"\"shallow copy\"\"\"\n",
    "import copy\n",
    "p = [211,24,30,60,80,100]\n",
    "q = copy.copy(p)\n",
    "print p\n",
    "print q"
   ]
  },
  {
   "cell_type": "code",
   "execution_count": 9,
   "metadata": {},
   "outputs": [
    {
     "name": "stdout",
     "output_type": "stream",
     "text": [
      "[1000, 24, 30, 60, 80, 100]\n",
      "[211, 24, 30, 60, 80, 100]\n"
     ]
    }
   ],
   "source": [
    "q[0] = 1000\n",
    "print q\n",
    "print p"
   ]
  },
  {
   "cell_type": "code",
   "execution_count": 10,
   "metadata": {},
   "outputs": [
    {
     "name": "stdout",
     "output_type": "stream",
     "text": [
      "[10, 20, 30, 40, [1, 2, 3, 4]]\n",
      "[10, 20, 30, 40, [1, 2, 3, 4]]\n"
     ]
    }
   ],
   "source": [
    "s = [10,20,30,40,[1,2,3,4]]\n",
    "r = copy.copy(s)\n",
    "print r\n",
    "print s"
   ]
  },
  {
   "cell_type": "code",
   "execution_count": 11,
   "metadata": {},
   "outputs": [
    {
     "name": "stdout",
     "output_type": "stream",
     "text": [
      "[50, 20, 30, 40, [1, 2, 3, 4]]\n",
      "[10, 20, 30, 40, [1, 2, 3, 4]]\n"
     ]
    }
   ],
   "source": [
    "r[0] = 50\n",
    "print r\n",
    "print s"
   ]
  },
  {
   "cell_type": "code",
   "execution_count": 12,
   "metadata": {},
   "outputs": [
    {
     "name": "stdout",
     "output_type": "stream",
     "text": [
      "[50, 20, 30, 40, [5, 2, 3, 4]]\n",
      "[10, 20, 30, 40, [5, 2, 3, 4]]\n"
     ]
    }
   ],
   "source": [
    "r[-1][0] = 5\n",
    "print r\n",
    "print s"
   ]
  },
  {
   "cell_type": "code",
   "execution_count": 13,
   "metadata": {},
   "outputs": [
    {
     "name": "stdout",
     "output_type": "stream",
     "text": [
      "[10, 20, 30, 40, 50, 60, [5, 15, 25, 35, 45]]\n",
      "[10, 20, 30, 40, 50, 60, [5, 15, 25, 35, 45]]\n"
     ]
    }
   ],
   "source": [
    "z = [10,20,30,40,50,60,[5,15,25,35,45]]\n",
    "x = copy.deepcopy(z)\n",
    "print z\n",
    "print x"
   ]
  },
  {
   "cell_type": "code",
   "execution_count": 15,
   "metadata": {},
   "outputs": [
    {
     "name": "stdout",
     "output_type": "stream",
     "text": [
      "[70, 20, 30, 40, 50, 60, [5, 15, 25, 35, 45]]\n",
      "[10, 20, 30, 40, 50, 60, [5, 15, 25, 35, 45]]\n"
     ]
    }
   ],
   "source": [
    "x[0] = 70\n",
    "print x\n",
    "print z"
   ]
  },
  {
   "cell_type": "code",
   "execution_count": 16,
   "metadata": {},
   "outputs": [
    {
     "name": "stdout",
     "output_type": "stream",
     "text": [
      "[70, 20, 30, 40, 50, 60, [4, 15, 25, 35, 45]]\n",
      "[10, 20, 30, 40, 50, 60, [5, 15, 25, 35, 45]]\n"
     ]
    }
   ],
   "source": [
    "x[-1][0] = 4\n",
    "print x \n",
    "print z\n"
   ]
  },
  {
   "cell_type": "code",
   "execution_count": null,
   "metadata": {},
   "outputs": [],
   "source": []
  }
 ],
 "metadata": {
  "kernelspec": {
   "display_name": "Python 2",
   "language": "python",
   "name": "python2"
  },
  "language_info": {
   "codemirror_mode": {
    "name": "ipython",
    "version": 2
   },
   "file_extension": ".py",
   "mimetype": "text/x-python",
   "name": "python",
   "nbconvert_exporter": "python",
   "pygments_lexer": "ipython2",
   "version": "2.7.15"
  }
 },
 "nbformat": 4,
 "nbformat_minor": 2
}
